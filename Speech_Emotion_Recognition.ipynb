{
  "metadata": {
    "kernelspec": {
      "language": "python",
      "display_name": "Python 3",
      "name": "python3"
    },
    "language_info": {
      "name": "python",
      "version": "3.7.12",
      "mimetype": "text/x-python",
      "codemirror_mode": {
        "name": "ipython",
        "version": 3
      },
      "pygments_lexer": "ipython3",
      "nbconvert_exporter": "python",
      "file_extension": ".py"
    },
    "colab": {
      "provenance": []
    }
  },
  "nbformat_minor": 0,
  "nbformat": 4,
  "cells": [
    {
      "cell_type": "code",
      "source": [
        "\n",
        "#import the libraries\n",
        "import pandas as pd\n",
        "import numpy as np\n",
        "\n",
        "import os\n",
        "import sys\n",
        "\n",
        "# librosa is a Python library for analyzing audio and music. It can be used to extract the data from the audio files we will see it later.\n",
        "import librosa\n",
        "import librosa.display\n",
        "import seaborn as sns\n",
        "import matplotlib.pyplot as plt\n",
        "\n",
        "from sklearn.preprocessing import StandardScaler, OneHotEncoder\n",
        "from sklearn.metrics import confusion_matrix, classification_report\n",
        "from sklearn.model_selection import train_test_split\n",
        "\n",
        "# to play the audio files\n",
        "import IPython.display as ipd\n",
        "from IPython.display import Audio\n",
        "import keras\n",
        "from keras.preprocessing import sequence\n",
        "from keras.models import Sequential\n",
        "from keras.layers import Dense, Embedding\n",
        "from keras.layers import LSTM,BatchNormalization , GRU\n",
        "from keras.preprocessing.text import Tokenizer\n",
        "from keras.preprocessing.sequence import pad_sequences\n",
        "from tensorflow.keras.utils import to_categorical\n",
        "from keras.layers import Input, Flatten, Dropout, Activation\n",
        "from keras.layers import Conv1D, MaxPooling1D, AveragePooling1D\n",
        "from keras.models import Model\n",
        "from keras.callbacks import ModelCheckpoint\n",
        "from tensorflow.keras.optimizers import SGD\n",
        "\n",
        "\n",
        "\n",
        "import warnings\n",
        "if not sys.warnoptions:\n",
        "    warnings.simplefilter(\"ignore\")\n",
        "warnings.filterwarnings(\"ignore\", category=DeprecationWarning)\n",
        "import tensorflow as tf\n",
        "print (\"Done\")"
      ],
      "metadata": {
        "_uuid": "8f2839f25d086af736a60e9eeb907d3b93b6e0e5",
        "_cell_guid": "b1076dfc-b9ad-4769-8c92-a6c4dae69d19",
        "execution": {
          "iopub.status.busy": "2023-10-15T16:11:13.804723Z",
          "iopub.execute_input": "2023-10-15T16:11:13.805276Z",
          "iopub.status.idle": "2023-10-15T16:11:24.128385Z",
          "shell.execute_reply.started": "2023-10-15T16:11:13.805173Z",
          "shell.execute_reply": "2023-10-15T16:11:24.127043Z"
        },
        "trusted": true,
        "id": "x2GN4hIYHbnv",
        "outputId": "2e7720ba-3f76-4085-9a97-51db9a650d75"
      },
      "execution_count": null,
      "outputs": [
        {
          "name": "stdout",
          "text": "Done\n",
          "output_type": "stream"
        }
      ]
    },
    {
      "cell_type": "markdown",
      "source": [
        "# Importing Data"
      ],
      "metadata": {
        "id": "XuEY935bHbn0"
      }
    },
    {
      "cell_type": "markdown",
      "source": [
        "                                              Ravdess Dataframe\n",
        "Here is the filename identifiers as per the official RAVDESS website:\n",
        "\n",
        "* Modality (01 = full-AV, 02 = video-only, 03 = audio-only).\n",
        "* Vocal channel (01 = speech, 02 = song).\n",
        "* Emotion (01 = neutral, 02 = calm, 03 = happy, 04 = sad, 05 = angry, 06 = fearful, 07 = disgust, 08 = surprised).\n",
        "* Emotional intensity (01 = normal, 02 = strong). NOTE: There is no strong intensity for the 'neutral' emotion.\n",
        "* Statement (01 = \"Kids are talking by the door\", 02 = \"Dogs are sitting by the door\").\n",
        "* Repetition (01 = 1st repetition, 02 = 2nd repetition).\n",
        "* Actor (01 to 24. Odd numbered actors are male, even numbered actors are female).\n",
        "\n",
        "So, here's an example of an audio filename. 02-01-06-01-02-01-12.mp4 This means the meta data for the audio file is:\n",
        "\n",
        "* Video-only (02)\n",
        "* Speech (01)\n",
        "* Fearful (06)\n",
        "* Normal intensity (01)\n",
        "* Statement \"dogs\" (02)\n",
        "* 1st Repetition (01)\n",
        "* 12th Actor (12) - Female (as the actor ID number is even)"
      ],
      "metadata": {
        "id": "KEvGhtgnHbn1"
      }
    },
    {
      "cell_type": "code",
      "source": [
        "#preparing data set\n",
        "\n",
        "ravdess = \"/kaggle/input/ravdess-emotional-speech-audio/audio_speech_actors_01-24/\"\n",
        "ravdess_directory_list = os.listdir(ravdess)\n",
        "print(ravdess_directory_list)"
      ],
      "metadata": {
        "trusted": true,
        "id": "wiBGCmnIHbn1",
        "outputId": "63141754-c1d4-4522-ee6c-22289f07684f"
      },
      "execution_count": null,
      "outputs": [
        {
          "name": "stdout",
          "text": "['Actor_02', 'Actor_17', 'Actor_05', 'Actor_16', 'Actor_21', 'Actor_01', 'Actor_11', 'Actor_20', 'Actor_08', 'Actor_15', 'Actor_06', 'Actor_12', 'Actor_23', 'Actor_24', 'Actor_22', 'Actor_04', 'Actor_19', 'Actor_10', 'Actor_09', 'Actor_14', 'Actor_03', 'Actor_13', 'Actor_18', 'Actor_07']\n",
          "output_type": "stream"
        }
      ]
    },
    {
      "cell_type": "markdown",
      "source": [
        "# preprocessing"
      ],
      "metadata": {
        "id": "XPVFBdjHHbn2"
      }
    },
    {
      "cell_type": "code",
      "source": [
        "file_emotion = []\n",
        "file_path = []\n",
        "for i in ravdess_directory_list:\n",
        "    # as their are 24 different actors in our previous directory we need to extract files for each actor.\n",
        "    actor = os.listdir(ravdess + i)\n",
        "    for f in actor:\n",
        "        part = f.split('.')[0].split('-')\n",
        "    # third part in each file represents the emotion associated to that file.\n",
        "        file_emotion.append(int(part[2]))\n",
        "        file_path.append(ravdess + i + '/' + f)\n",
        ""
      ],
      "metadata": {
        "execution": {
          "iopub.status.busy": "2023-06-01T19:01:02.003213Z",
          "iopub.execute_input": "2023-06-01T19:01:02.003951Z",
          "iopub.status.idle": "2023-06-01T19:01:02.369263Z",
          "shell.execute_reply.started": "2023-06-01T19:01:02.003905Z",
          "shell.execute_reply": "2023-06-01T19:01:02.368098Z"
        },
        "trusted": true,
        "id": "xpEjODkbHbn2"
      },
      "execution_count": null,
      "outputs": []
    },
    {
      "cell_type": "code",
      "source": [
        "print(actor[0])\n",
        "print(part[0])\n",
        "print(file_path[0])\n",
        "print(int(part[2]))\n",
        "print(f)"
      ],
      "metadata": {
        "execution": {
          "iopub.status.busy": "2023-06-01T19:01:02.372785Z",
          "iopub.execute_input": "2023-06-01T19:01:02.373882Z",
          "iopub.status.idle": "2023-06-01T19:01:02.385556Z",
          "shell.execute_reply.started": "2023-06-01T19:01:02.373839Z",
          "shell.execute_reply": "2023-06-01T19:01:02.384274Z"
        },
        "trusted": true,
        "id": "AXKZx2a4Hbn3"
      },
      "execution_count": null,
      "outputs": []
    },
    {
      "cell_type": "code",
      "source": [
        "# dataframe for emotion of files\n",
        "emotion_df = pd.DataFrame(file_emotion, columns=['Emotions'])\n",
        "# dataframe for path of files.\n",
        "path_df = pd.DataFrame(file_path, columns=['Path'])\n",
        "ravdess_df = pd.concat([emotion_df, path_df], axis=1)\n",
        "# changing integers to actual emotions.\n",
        "ravdess_df.Emotions.replace({1:'Neutral', 2:'Calm', 3:'Happy', 4:'Sad', 5:'Angry', 6:'Fear', 7:'Disgust',\n",
        "                             8:'Surprise'},\n",
        "                            inplace=True)\n",
        "print(ravdess_df.head())\n",
        "print(\"______________________________________________\")\n",
        "print(ravdess_df.tail())\n",
        "print(\"_______________________________________________\")\n",
        "print(ravdess_df.Emotions.value_counts())\n",
        "\n"
      ],
      "metadata": {
        "execution": {
          "iopub.status.busy": "2023-06-01T19:01:02.388416Z",
          "iopub.execute_input": "2023-06-01T19:01:02.390696Z",
          "iopub.status.idle": "2023-06-01T19:01:02.424724Z",
          "shell.execute_reply.started": "2023-06-01T19:01:02.390658Z",
          "shell.execute_reply": "2023-06-01T19:01:02.423613Z"
        },
        "trusted": true,
        "id": "fctxpbBDHbn3"
      },
      "execution_count": null,
      "outputs": []
    },
    {
      "cell_type": "markdown",
      "source": [
        ">*                           Data Visualisation and Exploration"
      ],
      "metadata": {
        "id": "NGs6BRNmHbn3"
      }
    },
    {
      "cell_type": "code",
      "source": [
        "import matplotlib.pyplot as plt\n",
        "import seaborn as sns\n",
        "\n",
        "plt.figure(figsize=(12, 5))\n",
        "plt.title('Count of Emotions', size=16)\n",
        "sns.countplot(ravdess_df.Emotions)\n",
        "plt.ylabel('Count', size=14)\n",
        "plt.xlabel('Emotions', size=14)\n",
        "plt.xticks(rotation=45)\n",
        "plt.show()"
      ],
      "metadata": {
        "execution": {
          "iopub.status.busy": "2023-06-01T19:01:02.429375Z",
          "iopub.execute_input": "2023-06-01T19:01:02.430035Z",
          "iopub.status.idle": "2023-06-01T19:01:02.802267Z",
          "shell.execute_reply.started": "2023-06-01T19:01:02.429997Z",
          "shell.execute_reply": "2023-06-01T19:01:02.801169Z"
        },
        "trusted": true,
        "id": "i_2JvWikHbn3"
      },
      "execution_count": null,
      "outputs": []
    },
    {
      "cell_type": "code",
      "source": [
        "data,sr = librosa.load(file_path[0])\n",
        "sr"
      ],
      "metadata": {
        "execution": {
          "iopub.status.busy": "2023-06-01T19:01:02.807129Z",
          "iopub.execute_input": "2023-06-01T19:01:02.809684Z",
          "iopub.status.idle": "2023-06-01T19:01:04.548592Z",
          "shell.execute_reply.started": "2023-06-01T19:01:02.80965Z",
          "shell.execute_reply": "2023-06-01T19:01:04.547424Z"
        },
        "trusted": true,
        "id": "QXtPve9VHbn4"
      },
      "execution_count": null,
      "outputs": []
    },
    {
      "cell_type": "code",
      "source": [
        "ipd.Audio(data,rate=sr)"
      ],
      "metadata": {
        "execution": {
          "iopub.status.busy": "2023-06-01T19:01:04.550375Z",
          "iopub.execute_input": "2023-06-01T19:01:04.551486Z",
          "iopub.status.idle": "2023-06-01T19:01:04.56632Z",
          "shell.execute_reply.started": "2023-06-01T19:01:04.55142Z",
          "shell.execute_reply": "2023-06-01T19:01:04.565349Z"
        },
        "trusted": true,
        "id": "aCnj9HrEHbn4"
      },
      "execution_count": null,
      "outputs": []
    },
    {
      "cell_type": "code",
      "source": [
        "# CREATE LOG MEL SPECTROGRAM\n",
        "plt.figure(figsize=(10, 5))\n",
        "spectrogram = librosa.feature.melspectrogram(y=data, sr=sr, n_mels=128,fmax=8000)\n",
        "log_spectrogram = librosa.power_to_db(spectrogram)\n",
        "librosa.display.specshow(log_spectrogram, y_axis='mel', sr=sr, x_axis='time');\n",
        "plt.title('Mel Spectrogram ')\n",
        "plt.colorbar(format='%+2.0f dB')"
      ],
      "metadata": {
        "execution": {
          "iopub.status.busy": "2023-06-01T19:01:04.567323Z",
          "iopub.execute_input": "2023-06-01T19:01:04.5687Z",
          "iopub.status.idle": "2023-06-01T19:01:05.019317Z",
          "shell.execute_reply.started": "2023-06-01T19:01:04.568664Z",
          "shell.execute_reply": "2023-06-01T19:01:05.018238Z"
        },
        "trusted": true,
        "id": "jz_pKHLZHbn4"
      },
      "execution_count": null,
      "outputs": []
    },
    {
      "cell_type": "code",
      "source": [
        "mfcc = librosa.feature.mfcc(y=data, sr=sr, n_mfcc=30)\n",
        "\n",
        "\n",
        "# MFCC\n",
        "plt.figure(figsize=(16, 10))\n",
        "plt.subplot(3,1,1)\n",
        "librosa.display.specshow(mfcc, x_axis='time')\n",
        "plt.ylabel('MFCC')\n",
        "plt.colorbar()\n",
        "\n",
        "ipd.Audio(data,rate=sr)"
      ],
      "metadata": {
        "execution": {
          "iopub.status.busy": "2023-06-01T19:01:05.026527Z",
          "iopub.execute_input": "2023-06-01T19:01:05.030171Z",
          "iopub.status.idle": "2023-06-01T19:01:05.418465Z",
          "shell.execute_reply.started": "2023-06-01T19:01:05.030125Z",
          "shell.execute_reply": "2023-06-01T19:01:05.41739Z"
        },
        "trusted": true,
        "id": "R0uiiOu6Hbn4"
      },
      "execution_count": null,
      "outputs": []
    },
    {
      "cell_type": "markdown",
      "source": [
        "# Data augmentation"
      ],
      "metadata": {
        "id": "6zJAXBK7Hbn4"
      }
    },
    {
      "cell_type": "code",
      "source": [
        "# NOISE\n",
        "def noise(data):\n",
        "    noise_amp = 0.035*np.random.uniform()*np.amax(data)\n",
        "    data = data + noise_amp*np.random.normal(size=data.shape[0])\n",
        "    return data\n",
        "# STRETCH\n",
        "def stretch(data, rate=0.8):\n",
        "    return librosa.effects.time_stretch(data, rate)\n",
        "# SHIFT\n",
        "def shift(data):\n",
        "    shift_range = int(np.random.uniform(low=-5, high = 5)*1000)\n",
        "    return np.roll(data, shift_range)\n",
        "# PITCH\n",
        "def pitch(data, sampling_rate, pitch_factor=0.7):\n",
        "    return librosa.effects.pitch_shift(data, sampling_rate, pitch_factor)"
      ],
      "metadata": {
        "execution": {
          "iopub.status.busy": "2023-06-01T19:01:05.420517Z",
          "iopub.execute_input": "2023-06-01T19:01:05.421205Z",
          "iopub.status.idle": "2023-06-01T19:01:05.429598Z",
          "shell.execute_reply.started": "2023-06-01T19:01:05.421165Z",
          "shell.execute_reply": "2023-06-01T19:01:05.428582Z"
        },
        "trusted": true,
        "id": "0uOBpKWAHbn5"
      },
      "execution_count": null,
      "outputs": []
    },
    {
      "cell_type": "code",
      "source": [
        "# NORMAL AUDIO\n",
        "\n",
        "\n",
        "import librosa.display\n",
        "plt.figure(figsize=(12, 5))\n",
        "librosa.display.waveshow(y=data, sr=sr)\n",
        "ipd.Audio(data,rate=sr)"
      ],
      "metadata": {
        "execution": {
          "iopub.status.busy": "2023-06-01T19:01:05.431211Z",
          "iopub.execute_input": "2023-06-01T19:01:05.431688Z",
          "iopub.status.idle": "2023-06-01T19:01:05.804812Z",
          "shell.execute_reply.started": "2023-06-01T19:01:05.431651Z",
          "shell.execute_reply": "2023-06-01T19:01:05.803703Z"
        },
        "trusted": true,
        "id": "g2Jn8nWkHbn5"
      },
      "execution_count": null,
      "outputs": []
    },
    {
      "cell_type": "code",
      "source": [
        "# AUDIO WITH NOISE\n",
        "x = noise(data)\n",
        "plt.figure(figsize=(12,5))\n",
        "librosa.display.waveshow(y=x, sr=sr)\n",
        "ipd.Audio(x, rate=sr)"
      ],
      "metadata": {
        "execution": {
          "iopub.status.busy": "2023-06-01T19:01:05.80674Z",
          "iopub.execute_input": "2023-06-01T19:01:05.807137Z",
          "iopub.status.idle": "2023-06-01T19:01:06.184189Z",
          "shell.execute_reply.started": "2023-06-01T19:01:05.807097Z",
          "shell.execute_reply": "2023-06-01T19:01:06.183188Z"
        },
        "trusted": true,
        "id": "xzHsU4E6Hbn5"
      },
      "execution_count": null,
      "outputs": []
    },
    {
      "cell_type": "code",
      "source": [
        "# STRETCHED AUDIO\n",
        "x = stretch(data)\n",
        "plt.figure(figsize=(12, 5))\n",
        "librosa.display.waveshow(y=x, sr=sr)\n",
        "ipd.Audio(x, rate=sr)"
      ],
      "metadata": {
        "execution": {
          "iopub.status.busy": "2023-06-01T19:01:06.185676Z",
          "iopub.execute_input": "2023-06-01T19:01:06.186624Z",
          "iopub.status.idle": "2023-06-01T19:01:07.070086Z",
          "shell.execute_reply.started": "2023-06-01T19:01:06.186561Z",
          "shell.execute_reply": "2023-06-01T19:01:07.06898Z"
        },
        "trusted": true,
        "id": "Tj_4kZFLHbn5"
      },
      "execution_count": null,
      "outputs": []
    },
    {
      "cell_type": "code",
      "source": [
        "# SHIFTED AUDIO\n",
        "x = shift(data)\n",
        "plt.figure(figsize=(12,5))\n",
        "librosa.display.waveshow(y=x, sr=sr)\n",
        "ipd.Audio(x, rate=sr)"
      ],
      "metadata": {
        "execution": {
          "iopub.status.busy": "2023-06-01T19:01:07.071621Z",
          "iopub.execute_input": "2023-06-01T19:01:07.072004Z",
          "iopub.status.idle": "2023-06-01T19:01:07.530427Z",
          "shell.execute_reply.started": "2023-06-01T19:01:07.071965Z",
          "shell.execute_reply": "2023-06-01T19:01:07.529433Z"
        },
        "trusted": true,
        "id": "AXi-JrtvHbn6"
      },
      "execution_count": null,
      "outputs": []
    },
    {
      "cell_type": "code",
      "source": [
        "# AUDIO WITH PITCH\n",
        "x = pitch(data, sr)\n",
        "plt.figure(figsize=(12, 5))\n",
        "librosa.display.waveshow(y=x, sr=sr)\n",
        "ipd.Audio(x, rate=sr)"
      ],
      "metadata": {
        "execution": {
          "iopub.status.busy": "2023-06-01T19:01:07.532318Z",
          "iopub.execute_input": "2023-06-01T19:01:07.532643Z",
          "iopub.status.idle": "2023-06-01T19:01:08.04025Z",
          "shell.execute_reply.started": "2023-06-01T19:01:07.532614Z",
          "shell.execute_reply": "2023-06-01T19:01:08.039097Z"
        },
        "trusted": true,
        "id": "ohjPwig5Hbn7"
      },
      "execution_count": null,
      "outputs": []
    },
    {
      "cell_type": "markdown",
      "source": [
        "# Feature extraction"
      ],
      "metadata": {
        "id": "xMTo2rt6Hbn7"
      }
    },
    {
      "cell_type": "code",
      "source": [
        "def feat_ext(data):\n",
        "    #Time_domain_features\n",
        "    # ZCR Persody features or Low level ascoustic features\n",
        "    result = np.array([])\n",
        "    zcr = np.mean(librosa.feature.zero_crossing_rate(y=data).T, axis=0)\n",
        "    result=np.hstack((result, zcr)) # stacking horizontally\n",
        "    #Frequency_domain_features\n",
        "    #Spectral and wavelet Features\n",
        "    #MFCC\n",
        "    mfcc = np.mean(librosa.feature.mfcc(y=data, sr=sr,n_mfcc=40).T, axis=0)\n",
        "    result = np.hstack((result, mfcc)) # stacking horizontally\n",
        "    return result\n",
        "\n",
        "def get_feat(path):\n",
        "    data, sample_rate = librosa.load(path, duration=2.5, offset=0.6)\n",
        "    # normal data\n",
        "    res1 = feat_ext(data)\n",
        "    result = np.array(res1)\n",
        "    #data with noise\n",
        "    noise_data = noise(data)\n",
        "    res2 = feat_ext(noise_data)\n",
        "    result = np.vstack((result, res2))\n",
        "    #data with stretch and pitch\n",
        "    new_data = stretch(data)\n",
        "    data_stretch_pitch = pitch(new_data, sample_rate)\n",
        "    res3 = feat_ext(data_stretch_pitch)\n",
        "    result = np.vstack((result, res3))\n",
        "    return result\n"
      ],
      "metadata": {
        "execution": {
          "iopub.status.busy": "2023-06-01T19:01:08.042125Z",
          "iopub.execute_input": "2023-06-01T19:01:08.042525Z",
          "iopub.status.idle": "2023-06-01T19:01:08.053316Z",
          "shell.execute_reply.started": "2023-06-01T19:01:08.042485Z",
          "shell.execute_reply": "2023-06-01T19:01:08.052018Z"
        },
        "trusted": true,
        "id": "dmoyykHXHbn8"
      },
      "execution_count": null,
      "outputs": []
    },
    {
      "cell_type": "code",
      "source": [
        "import multiprocessing as mp\n",
        "print(\"Number of processors: \", mp.cpu_count())"
      ],
      "metadata": {
        "execution": {
          "iopub.status.busy": "2023-06-01T19:01:08.055322Z",
          "iopub.execute_input": "2023-06-01T19:01:08.0558Z",
          "iopub.status.idle": "2023-06-01T19:01:08.067711Z",
          "shell.execute_reply.started": "2023-06-01T19:01:08.055762Z",
          "shell.execute_reply": "2023-06-01T19:01:08.066697Z"
        },
        "trusted": true,
        "id": "7cLL5vnlHbn8"
      },
      "execution_count": null,
      "outputs": []
    },
    {
      "cell_type": "markdown",
      "source": [
        "# Normal way to get features"
      ],
      "metadata": {
        "id": "fW5Lu3liHbn8"
      }
    },
    {
      "cell_type": "code",
      "source": [
        "#from joblib import Parallel, delayed\n",
        "#import timeit\n",
        "#start = timeit.default_timer()\n",
        "#X , Y = [], []\n",
        "#for path, emotion in zip(ravdess_df['Path'] , ravdess_df['Emotions']):\n",
        "    #feature = get_feat(path)\n",
        "   # for ele in feature:\n",
        "   #     X.append(ele)\n",
        "   #     Y.append(emotion)\n",
        "#stop = timeit.default_timer()\n",
        "\n",
        "#print('Time: ', stop - start)"
      ],
      "metadata": {
        "execution": {
          "iopub.status.busy": "2023-06-01T19:01:08.069214Z",
          "iopub.execute_input": "2023-06-01T19:01:08.070143Z",
          "iopub.status.idle": "2023-06-01T19:01:08.078476Z",
          "shell.execute_reply.started": "2023-06-01T19:01:08.070103Z",
          "shell.execute_reply": "2023-06-01T19:01:08.077379Z"
        },
        "trusted": true,
        "id": "iSVxl2NuHbn8"
      },
      "execution_count": null,
      "outputs": []
    },
    {
      "cell_type": "markdown",
      "source": [
        "# Faster way to get features\n",
        "***Parallel way***\n"
      ],
      "metadata": {
        "id": "F6BZyq7vHbn8"
      }
    },
    {
      "cell_type": "code",
      "source": [
        "from joblib import Parallel, delayed\n",
        "import timeit\n",
        "start = timeit.default_timer()\n",
        "# Define a function to get features for a single audio file\n",
        "def get_features(path, emotion):\n",
        "    feature = get_feat(path)\n",
        "    X, Y = [], []\n",
        "    for ele in feature:\n",
        "        X.append(ele)\n",
        "        Y.append(emotion)\n",
        "    return X, Y\n",
        "\n",
        "# Call the get_features function in parallel for all audio files\n",
        "X, Y = [], []\n",
        "results = Parallel(n_jobs=-1)(delayed(get_features)(path, emotion) for path, emotion in zip(ravdess_df['Path'], ravdess_df['Emotions']))\n",
        "for result in results:\n",
        "    X.extend(result[0])\n",
        "    Y.extend(result[1])\n",
        "stop = timeit.default_timer()\n",
        "\n",
        "print('Time: ', stop - start)"
      ],
      "metadata": {
        "execution": {
          "iopub.status.busy": "2023-06-01T19:01:08.080329Z",
          "iopub.execute_input": "2023-06-01T19:01:08.080807Z",
          "iopub.status.idle": "2023-06-01T19:08:31.610432Z",
          "shell.execute_reply.started": "2023-06-01T19:01:08.080765Z",
          "shell.execute_reply": "2023-06-01T19:08:31.608378Z"
        },
        "trusted": true,
        "id": "MdN6DUYNHbn9"
      },
      "execution_count": null,
      "outputs": []
    },
    {
      "cell_type": "markdown",
      "source": [
        "# Saving features"
      ],
      "metadata": {
        "id": "9q_dazQgHbn9"
      }
    },
    {
      "cell_type": "code",
      "source": [
        "Emotions = pd.DataFrame(X)\n",
        "Emotions['Emotions'] = Y\n",
        "Emotions.to_csv('emotion.csv', index=False)\n",
        "Emotions.head()"
      ],
      "metadata": {
        "execution": {
          "iopub.status.busy": "2023-06-01T19:08:31.612016Z",
          "iopub.execute_input": "2023-06-01T19:08:31.612362Z",
          "iopub.status.idle": "2023-06-01T19:08:32.041484Z",
          "shell.execute_reply.started": "2023-06-01T19:08:31.61233Z",
          "shell.execute_reply": "2023-06-01T19:08:32.040462Z"
        },
        "trusted": true,
        "id": "5gi9RE6kHbn9"
      },
      "execution_count": null,
      "outputs": []
    },
    {
      "cell_type": "code",
      "source": [
        "Emotions = pd.read_csv('./emotion.csv')\n",
        "Emotions.head()"
      ],
      "metadata": {
        "execution": {
          "iopub.status.busy": "2023-06-01T19:08:32.043079Z",
          "iopub.execute_input": "2023-06-01T19:08:32.043704Z",
          "iopub.status.idle": "2023-06-01T19:08:32.117059Z",
          "shell.execute_reply.started": "2023-06-01T19:08:32.043665Z",
          "shell.execute_reply": "2023-06-01T19:08:32.115962Z"
        },
        "trusted": true,
        "id": "DxE-XBhOHbn9"
      },
      "execution_count": null,
      "outputs": []
    },
    {
      "cell_type": "markdown",
      "source": [
        "# Data preparation"
      ],
      "metadata": {
        "id": "TlY46vDAHbn-"
      }
    },
    {
      "cell_type": "code",
      "source": [
        "#taking all rows and all cols without last col for X which include features\n",
        "#taking last col for Y, which include the emotions\n",
        "\n",
        "\n",
        "X = Emotions.iloc[: ,:-1].values\n",
        "Y = Emotions['Emotions'].values"
      ],
      "metadata": {
        "execution": {
          "iopub.status.busy": "2023-06-01T19:08:32.118753Z",
          "iopub.execute_input": "2023-06-01T19:08:32.119123Z",
          "iopub.status.idle": "2023-06-01T19:08:32.126585Z",
          "shell.execute_reply.started": "2023-06-01T19:08:32.119086Z",
          "shell.execute_reply": "2023-06-01T19:08:32.125365Z"
        },
        "trusted": true,
        "id": "zOZzXWXUHbn-"
      },
      "execution_count": null,
      "outputs": []
    },
    {
      "cell_type": "code",
      "source": [
        "# As this is a multiclass classification problem onehotencoding our Y\n",
        "from sklearn.preprocessing import StandardScaler, OneHotEncoder\n",
        "encoder = OneHotEncoder()\n",
        "Y = encoder.fit_transform(np.array(Y).reshape(-1,1)).toarray()\n"
      ],
      "metadata": {
        "execution": {
          "iopub.status.busy": "2023-06-01T19:08:32.127974Z",
          "iopub.execute_input": "2023-06-01T19:08:32.129042Z",
          "iopub.status.idle": "2023-06-01T19:08:32.139947Z",
          "shell.execute_reply.started": "2023-06-01T19:08:32.129003Z",
          "shell.execute_reply": "2023-06-01T19:08:32.138936Z"
        },
        "trusted": true,
        "id": "cBnqjm0WHbn-"
      },
      "execution_count": null,
      "outputs": []
    },
    {
      "cell_type": "code",
      "source": [
        "print(Y.shape)\n",
        "X.shape"
      ],
      "metadata": {
        "execution": {
          "iopub.status.busy": "2023-06-01T19:08:32.141536Z",
          "iopub.execute_input": "2023-06-01T19:08:32.14201Z",
          "iopub.status.idle": "2023-06-01T19:08:32.151662Z",
          "shell.execute_reply.started": "2023-06-01T19:08:32.141972Z",
          "shell.execute_reply": "2023-06-01T19:08:32.1504Z"
        },
        "trusted": true,
        "id": "DxFxeq2RHbn-"
      },
      "execution_count": null,
      "outputs": []
    },
    {
      "cell_type": "code",
      "source": [
        "from sklearn.model_selection import train_test_split\n",
        "\n",
        "x_train, x_test, y_train, y_test = train_test_split(X, Y, random_state=0, shuffle=True)\n",
        "x_train.shape, y_train.shape, x_test.shape, y_test.shape"
      ],
      "metadata": {
        "execution": {
          "iopub.status.busy": "2023-06-01T19:08:32.153174Z",
          "iopub.execute_input": "2023-06-01T19:08:32.153565Z",
          "iopub.status.idle": "2023-06-01T19:08:32.168531Z",
          "shell.execute_reply.started": "2023-06-01T19:08:32.153511Z",
          "shell.execute_reply": "2023-06-01T19:08:32.165508Z"
        },
        "trusted": true,
        "id": "pHiTCZizHbn-"
      },
      "execution_count": null,
      "outputs": []
    },
    {
      "cell_type": "code",
      "source": [
        "#reshape for lstm\n",
        "X_train = x_train.reshape(x_train.shape[0] , x_train.shape[1] , 1)\n",
        "X_test = x_test.reshape(x_test.shape[0] , x_test.shape[1] , 1)"
      ],
      "metadata": {
        "execution": {
          "iopub.status.busy": "2023-06-01T19:08:32.169927Z",
          "iopub.execute_input": "2023-06-01T19:08:32.170558Z",
          "iopub.status.idle": "2023-06-01T19:08:32.176535Z",
          "shell.execute_reply.started": "2023-06-01T19:08:32.170518Z",
          "shell.execute_reply": "2023-06-01T19:08:32.175305Z"
        },
        "trusted": true,
        "id": "0O-eVCEcHbn_"
      },
      "execution_count": null,
      "outputs": []
    },
    {
      "cell_type": "code",
      "source": [
        "# scaling our data with sklearn's Standard scaler\n",
        "scaler = StandardScaler()\n",
        "x_train = scaler.fit_transform(x_train)\n",
        "x_test = scaler.transform(x_test)\n",
        "x_train.shape, y_train.shape, x_test.shape, y_test.shape"
      ],
      "metadata": {
        "execution": {
          "iopub.status.busy": "2023-06-01T19:08:32.186351Z",
          "iopub.execute_input": "2023-06-01T19:08:32.186659Z",
          "iopub.status.idle": "2023-06-01T19:08:32.198914Z",
          "shell.execute_reply.started": "2023-06-01T19:08:32.186633Z",
          "shell.execute_reply": "2023-06-01T19:08:32.197682Z"
        },
        "trusted": true,
        "id": "ZQBEofmzHbn_"
      },
      "execution_count": null,
      "outputs": []
    },
    {
      "cell_type": "code",
      "source": [
        "import keras\n",
        "from keras.preprocessing import sequence\n",
        "from keras.models import Sequential\n",
        "from keras.layers import Dense, Embedding\n",
        "from keras.layers import LSTM,BatchNormalization , GRU\n",
        "from keras.preprocessing.text import Tokenizer\n",
        "from keras.preprocessing.sequence import pad_sequences\n",
        "from tensorflow.keras.utils import to_categorical\n",
        "from keras.layers import Input, Flatten, Dropout, Activation\n",
        "from keras.layers import Conv1D, MaxPooling1D, AveragePooling1D\n",
        "from keras.models import Model\n",
        "from keras.callbacks import ModelCheckpoint\n",
        "from tensorflow.keras.optimizers import SGD"
      ],
      "metadata": {
        "execution": {
          "iopub.status.busy": "2023-06-01T19:08:32.20047Z",
          "iopub.execute_input": "2023-06-01T19:08:32.2012Z",
          "iopub.status.idle": "2023-06-01T19:08:32.20903Z",
          "shell.execute_reply.started": "2023-06-01T19:08:32.201164Z",
          "shell.execute_reply": "2023-06-01T19:08:32.208345Z"
        },
        "trusted": true,
        "id": "t00ZN-VnHboA"
      },
      "execution_count": null,
      "outputs": []
    },
    {
      "cell_type": "markdown",
      "source": [
        "> Applying early stopping for all models\n"
      ],
      "metadata": {
        "id": "ZGrsVc-IHboA"
      }
    },
    {
      "cell_type": "code",
      "source": [
        "from keras.callbacks import ModelCheckpoint, EarlyStopping\n",
        "early_stopping = tf.keras.callbacks.EarlyStopping(\n",
        "    monitor='val_loss',\n",
        "    patience=10,\n",
        "    verbose=1,mode='auto')\n",
        "es=EarlyStopping(monitor='val_accuracy', min_delta=0, patience=10, verbose=1, mode='auto')"
      ],
      "metadata": {
        "execution": {
          "iopub.status.busy": "2023-06-01T19:08:32.210298Z",
          "iopub.execute_input": "2023-06-01T19:08:32.211254Z",
          "iopub.status.idle": "2023-06-01T19:08:32.223638Z",
          "shell.execute_reply.started": "2023-06-01T19:08:32.211213Z",
          "shell.execute_reply": "2023-06-01T19:08:32.222812Z"
        },
        "trusted": true,
        "id": "9oTaE2iNHboA"
      },
      "execution_count": null,
      "outputs": []
    },
    {
      "cell_type": "markdown",
      "source": [
        "# LSTM Model"
      ],
      "metadata": {
        "id": "i_PQGjqPHboA"
      }
    },
    {
      "cell_type": "code",
      "source": [
        "model01=Sequential()\n",
        "model01.add(LSTM(128,return_sequences=True,input_shape=(x_train.shape[1],1)))\n",
        "model01.add(Dropout(0.2))\n",
        "model01.add(LSTM(128,return_sequences=True))\n",
        "model01.add(Dropout(0.2))\n",
        "model01.add(LSTM(128,return_sequences=True))\n",
        "model01.add(Dropout(0.2))\n",
        "model01.add(LSTM(128,return_sequences=True))\n",
        "model01.add(Dropout(0.2))\n",
        "model01.add(LSTM(128,return_sequences=True))\n",
        "model01.add(Dropout(0.2))\n",
        "model01.add(LSTM(128,return_sequences=True))\n",
        "model01.add(Dropout(0.2))\n",
        "model01.add(LSTM(128))\n",
        "model01.add(Dropout(0.2))\n",
        "model01.add(Dense(8,activation = 'softmax'))\n",
        "model01.compile(loss='categorical_crossentropy',optimizer='adam',metrics=['accuracy'])\n",
        "model01.summary()"
      ],
      "metadata": {
        "execution": {
          "iopub.status.busy": "2023-06-01T19:08:32.224854Z",
          "iopub.execute_input": "2023-06-01T19:08:32.225813Z",
          "iopub.status.idle": "2023-06-01T19:08:36.412165Z",
          "shell.execute_reply.started": "2023-06-01T19:08:32.225777Z",
          "shell.execute_reply": "2023-06-01T19:08:36.411144Z"
        },
        "trusted": true,
        "id": "a6Xvbh3PHboA"
      },
      "execution_count": null,
      "outputs": []
    },
    {
      "cell_type": "code",
      "source": [
        "hist=model01.fit(X_train, y_train,\n",
        "            epochs=100,\n",
        "            validation_data=(X_test, y_test),batch_size=65,\n",
        "            verbose=1)"
      ],
      "metadata": {
        "execution": {
          "iopub.status.busy": "2023-06-01T19:08:36.41348Z",
          "iopub.execute_input": "2023-06-01T19:08:36.414253Z",
          "iopub.status.idle": "2023-06-01T19:10:58.069132Z",
          "shell.execute_reply.started": "2023-06-01T19:08:36.414215Z",
          "shell.execute_reply": "2023-06-01T19:10:58.068151Z"
        },
        "trusted": true,
        "id": "7D-5Y6SyHboB"
      },
      "execution_count": null,
      "outputs": []
    },
    {
      "cell_type": "code",
      "source": [
        "print(\"Accuracy of our model on test data : \" , model01.evaluate(X_test,y_test)[1]*100 , \"%\")\n",
        "epochs = [i for i in range(100)]\n",
        "fig , ax = plt.subplots(1,2)\n",
        "train_acc = hist.history['accuracy']\n",
        "train_loss = hist.history['loss']\n",
        "test_acc = hist.history['val_accuracy']\n",
        "test_loss = hist.history['val_loss']\n",
        "\n",
        "fig.set_size_inches(20,6)\n",
        "ax[0].plot(epochs , train_loss , label = 'Training Loss')\n",
        "ax[0].plot(epochs , test_loss , label = 'Testing Loss')\n",
        "ax[0].set_title('Training & Testing Loss')\n",
        "ax[0].legend()\n",
        "ax[0].set_xlabel(\"Epochs\")\n",
        "\n",
        "ax[1].plot(epochs , train_acc , label = 'Training Accuracy')\n",
        "ax[1].plot(epochs , test_acc , label = 'Testing Accuracy')\n",
        "ax[1].set_title('Training & Testing Accuracy')\n",
        "ax[1].legend()\n",
        "ax[1].set_xlabel(\"Epochs\")\n",
        "plt.show()"
      ],
      "metadata": {
        "execution": {
          "iopub.status.busy": "2023-06-01T19:10:58.070856Z",
          "iopub.execute_input": "2023-06-01T19:10:58.071539Z",
          "iopub.status.idle": "2023-06-01T19:10:58.782495Z",
          "shell.execute_reply.started": "2023-06-01T19:10:58.071499Z",
          "shell.execute_reply": "2023-06-01T19:10:58.781559Z"
        },
        "trusted": true,
        "id": "dsNMY2XVHboB"
      },
      "execution_count": null,
      "outputs": []
    },
    {
      "cell_type": "markdown",
      "source": [
        "# CNN model"
      ],
      "metadata": {
        "id": "n0wmURRwHboB"
      }
    },
    {
      "cell_type": "code",
      "source": [
        "#Reshape for CNN_LSTM MODEL\n",
        "\n",
        "x_traincnn =np.expand_dims(x_train, axis=2)\n",
        "x_testcnn= np.expand_dims(x_test, axis=2)\n",
        "x_traincnn.shape, y_train.shape, x_testcnn.shape, y_test.shape\n",
        "#x_testcnn[0]"
      ],
      "metadata": {
        "execution": {
          "iopub.status.busy": "2023-06-01T19:10:58.785837Z",
          "iopub.execute_input": "2023-06-01T19:10:58.786134Z",
          "iopub.status.idle": "2023-06-01T19:10:58.79479Z",
          "shell.execute_reply.started": "2023-06-01T19:10:58.786106Z",
          "shell.execute_reply": "2023-06-01T19:10:58.793763Z"
        },
        "trusted": true,
        "id": "Ndtr9z3IHboB"
      },
      "execution_count": null,
      "outputs": []
    },
    {
      "cell_type": "code",
      "source": [
        "#CNN\n",
        "\n",
        "\n",
        "model = Sequential()\n",
        "model.add(Conv1D(2048, kernel_size=5, strides=1, padding='same', activation='relu', input_shape=(x_train.shape[1], 1)))\n",
        "model.add(MaxPooling1D(pool_size=2, strides = 2, padding = 'same'))\n",
        "model.add(BatchNormalization())\n",
        "\n",
        "model.add(Conv1D(1024, kernel_size=5, strides=1, padding='same', activation='relu'))\n",
        "model.add(MaxPooling1D(pool_size=2, strides = 2, padding = 'same'))\n",
        "model.add(BatchNormalization())\n",
        "\n",
        "model.add(Conv1D(512, kernel_size=5, strides=1, padding='same', activation='relu'))\n",
        "model.add(MaxPooling1D(pool_size=2, strides = 2, padding = 'same'))\n",
        "model.add(BatchNormalization())\n",
        "\n",
        "model.add(LSTM(256, return_sequences=True))\n",
        "\n",
        "model.add(LSTM(128))\n",
        "\n",
        "model.add(Dense(128, activation='relu'))\n",
        "model.add(Dropout(0.5))\n",
        "\n",
        "model.add(Dense(64, activation='relu'))\n",
        "model.add(Dropout(0.5))\n",
        "\n",
        "model.add(Dense(32, activation='relu'))\n",
        "model.add(Dropout(0.2))\n",
        "\n",
        "model.add(Dense(8, activation='softmax'))\n",
        "\n",
        "optimiser = tf.keras.optimizers.Adam(learning_rate=0.0001)\n",
        "model.compile(optimizer='adam',\n",
        "              loss='categorical_crossentropy',\n",
        "              metrics=['accuracy'])\n",
        "\n",
        "model.summary()"
      ],
      "metadata": {
        "execution": {
          "iopub.status.busy": "2023-06-01T19:10:58.796875Z",
          "iopub.execute_input": "2023-06-01T19:10:58.797609Z",
          "iopub.status.idle": "2023-06-01T19:10:59.391096Z",
          "shell.execute_reply.started": "2023-06-01T19:10:58.797571Z",
          "shell.execute_reply": "2023-06-01T19:10:59.390059Z"
        },
        "trusted": true,
        "id": "KHS5cYMDHboB"
      },
      "execution_count": null,
      "outputs": []
    },
    {
      "cell_type": "code",
      "source": [
        "from keras.utils.vis_utils import plot_model\n",
        "plot_model( model, show_shapes=True, show_layer_names=True, to_file='model.png')"
      ],
      "metadata": {
        "execution": {
          "iopub.status.busy": "2023-06-01T19:10:59.392437Z",
          "iopub.execute_input": "2023-06-01T19:10:59.393221Z",
          "iopub.status.idle": "2023-06-01T19:11:00.455682Z",
          "shell.execute_reply.started": "2023-06-01T19:10:59.393181Z",
          "shell.execute_reply": "2023-06-01T19:11:00.454391Z"
        },
        "trusted": true,
        "id": "zesRqqY4HboC"
      },
      "execution_count": null,
      "outputs": []
    },
    {
      "cell_type": "code",
      "source": [
        "#CNN\n",
        "history =  model.fit(x_traincnn, y_train, batch_size=64, epochs=100, validation_data=(x_testcnn, y_test))"
      ],
      "metadata": {
        "execution": {
          "iopub.status.busy": "2023-06-01T19:11:00.457765Z",
          "iopub.execute_input": "2023-06-01T19:11:00.45846Z",
          "iopub.status.idle": "2023-06-01T19:14:00.48114Z",
          "shell.execute_reply.started": "2023-06-01T19:11:00.458405Z",
          "shell.execute_reply": "2023-06-01T19:14:00.480158Z"
        },
        "trusted": true,
        "id": "8n2tJCVCHboC"
      },
      "execution_count": null,
      "outputs": []
    },
    {
      "cell_type": "code",
      "source": [
        "print(\"Accuracy of our model on test data : \" , model.evaluate(x_testcnn,y_test)[1]*100 , \"%\")"
      ],
      "metadata": {
        "execution": {
          "iopub.status.busy": "2023-06-01T19:14:00.483151Z",
          "iopub.execute_input": "2023-06-01T19:14:00.483551Z",
          "iopub.status.idle": "2023-06-01T19:14:01.155818Z",
          "shell.execute_reply.started": "2023-06-01T19:14:00.483509Z",
          "shell.execute_reply": "2023-06-01T19:14:01.154802Z"
        },
        "trusted": true,
        "id": "Psj6GP8FHboE"
      },
      "execution_count": null,
      "outputs": []
    },
    {
      "cell_type": "markdown",
      "source": [
        "Some plots of multi_model\n",
        "______________________________________________\n"
      ],
      "metadata": {
        "id": "kAWSc_RbHboE"
      }
    },
    {
      "cell_type": "code",
      "source": [
        "epochs = [i for i in range(100)]\n",
        "fig , ax = plt.subplots(1,2)\n",
        "train_acc = history.history['accuracy']\n",
        "train_loss = history.history['loss']\n",
        "test_acc = history.history['val_accuracy']\n",
        "test_loss = history.history['val_loss']\n",
        "\n",
        "fig.set_size_inches(20,6)\n",
        "ax[0].plot(epochs , train_loss , label = 'Training Loss')\n",
        "ax[0].plot(epochs , test_loss , label = 'Testing Loss')\n",
        "ax[0].set_title('Training & Testing Loss')\n",
        "ax[0].legend()\n",
        "ax[0].set_xlabel(\"Epochs\")\n",
        "\n",
        "ax[1].plot(epochs , train_acc , label = 'Training Accuracy')\n",
        "ax[1].plot(epochs , test_acc , label = 'Testing Accuracy')\n",
        "ax[1].set_title('Training & Testing Accuracy')\n",
        "ax[1].legend()\n",
        "ax[1].set_xlabel(\"Epochs\")\n",
        "plt.show()"
      ],
      "metadata": {
        "execution": {
          "iopub.status.busy": "2023-06-01T19:14:01.158859Z",
          "iopub.execute_input": "2023-06-01T19:14:01.159191Z",
          "iopub.status.idle": "2023-06-01T19:14:01.516452Z",
          "shell.execute_reply.started": "2023-06-01T19:14:01.159161Z",
          "shell.execute_reply": "2023-06-01T19:14:01.515491Z"
        },
        "trusted": true,
        "id": "fZL9pLASHboF"
      },
      "execution_count": null,
      "outputs": []
    },
    {
      "cell_type": "code",
      "source": [
        "# predicting on test data.\n",
        "pred_test = model.predict(x_testcnn)\n",
        "y_pred = encoder.inverse_transform(pred_test)\n",
        "y_test1 = encoder.inverse_transform(y_test)\n",
        "\n",
        "# Check for random predictions\n",
        "df = pd.DataFrame(columns=['Predicted Labels', 'Actual Labels'])\n",
        "df['Predicted Labels'] = y_pred.flatten()\n",
        "df['Actual Labels'] = y_test1.flatten()\n",
        "\n",
        "df.head(10)\n"
      ],
      "metadata": {
        "execution": {
          "iopub.status.busy": "2023-06-01T19:14:01.518041Z",
          "iopub.execute_input": "2023-06-01T19:14:01.518424Z",
          "iopub.status.idle": "2023-06-01T19:14:02.53543Z",
          "shell.execute_reply.started": "2023-06-01T19:14:01.518386Z",
          "shell.execute_reply": "2023-06-01T19:14:02.534486Z"
        },
        "trusted": true,
        "id": "QZS5mtsCHboF"
      },
      "execution_count": null,
      "outputs": []
    },
    {
      "cell_type": "markdown",
      "source": [
        "# CLSTM Model"
      ],
      "metadata": {
        "id": "AOQ5uGDrHboF"
      }
    },
    {
      "cell_type": "markdown",
      "source": [
        "Another  model (CLSTM)  omnia model\n",
        "_____________________________________________________"
      ],
      "metadata": {
        "id": "KMeJa059HboF"
      }
    },
    {
      "cell_type": "code",
      "source": [
        "#Build the model\n",
        "\n",
        "# define model\n",
        "model000 = Sequential()\n",
        "model000.add(Conv1D(1024, kernel_size=5, strides=1, padding='same', activation='relu', input_shape=(X.shape[1], 1)))\n",
        "model000.add(MaxPooling1D(pool_size=2, strides = 2, padding = 'same'))\n",
        "model000.add(BatchNormalization())\n",
        "model000.add(Dropout(0.3))\n",
        "\n",
        "\n",
        "model000.add(Conv1D(512, kernel_size=5, strides=1, padding='same', activation='relu'))\n",
        "model000.add(MaxPooling1D(pool_size=2, strides = 2, padding = 'same'))\n",
        "model000.add(BatchNormalization())\n",
        "model000.add(Dropout(0.3))\n",
        "\n",
        "model000.add(Conv1D(256, kernel_size=5, strides=1, padding='same', activation='relu'))\n",
        "model000.add(MaxPooling1D(pool_size=2, strides = 2, padding = 'same'))\n",
        "model000.add(BatchNormalization())\n",
        "model000.add(Dropout(0.3))\n",
        "\n",
        "model000.add(LSTM(128, return_sequences=True))\n",
        "model000.add(LSTM(128, return_sequences=True))\n",
        "model000.add(Dropout(0.3))\n",
        "model000.add(LSTM(128))\n",
        "model000.add(Dropout(0.3))\n",
        "\n",
        "model000.add(Dense(128, activation='relu'))\n",
        "#model000.add(Dropout(0.3))\n",
        "\n",
        "model000.add(Dense(64, activation='relu'))\n",
        "#model000.add(Dropout(0.3))\n",
        "\n",
        "model000.add(Dense(32, activation='relu'))\n",
        "#model000.add(Dropout(0.3))\n",
        "\n",
        "model000.add(Dense(8, activation='softmax'))\n",
        "\n",
        "\n",
        "\n",
        "model000.summary()"
      ],
      "metadata": {
        "execution": {
          "iopub.status.busy": "2023-06-01T19:14:02.536875Z",
          "iopub.execute_input": "2023-06-01T19:14:02.537465Z",
          "iopub.status.idle": "2023-06-01T19:14:03.383539Z",
          "shell.execute_reply.started": "2023-06-01T19:14:02.537412Z",
          "shell.execute_reply": "2023-06-01T19:14:03.382525Z"
        },
        "trusted": true,
        "id": "s4cIt236HboF"
      },
      "execution_count": null,
      "outputs": []
    },
    {
      "cell_type": "code",
      "source": [
        "from keras.utils.vis_utils import plot_model\n",
        "plot_model( model000, show_shapes=True, show_layer_names=True, to_file='model000.png')"
      ],
      "metadata": {
        "execution": {
          "iopub.status.busy": "2023-06-01T19:14:03.387908Z",
          "iopub.execute_input": "2023-06-01T19:14:03.389159Z",
          "iopub.status.idle": "2023-06-01T19:14:03.838733Z",
          "shell.execute_reply.started": "2023-06-01T19:14:03.389118Z",
          "shell.execute_reply": "2023-06-01T19:14:03.837521Z"
        },
        "trusted": true,
        "id": "hgtU68dhHboG"
      },
      "execution_count": null,
      "outputs": []
    },
    {
      "cell_type": "code",
      "source": [
        "model000.compile(loss='categorical_crossentropy', optimizer='adam', metrics=['accuracy'])"
      ],
      "metadata": {
        "execution": {
          "iopub.status.busy": "2023-06-01T19:14:03.840836Z",
          "iopub.execute_input": "2023-06-01T19:14:03.843747Z",
          "iopub.status.idle": "2023-06-01T19:14:03.860735Z",
          "shell.execute_reply.started": "2023-06-01T19:14:03.843702Z",
          "shell.execute_reply": "2023-06-01T19:14:03.859836Z"
        },
        "trusted": true,
        "id": "mIIbIXMlHboG"
      },
      "execution_count": null,
      "outputs": []
    },
    {
      "cell_type": "code",
      "source": [
        "hist1=model000.fit(x_traincnn, y_train, batch_size=64, epochs=100, validation_data=(x_testcnn, y_test))"
      ],
      "metadata": {
        "execution": {
          "iopub.status.busy": "2023-06-01T19:14:03.862182Z",
          "iopub.execute_input": "2023-06-01T19:14:03.862982Z",
          "iopub.status.idle": "2023-06-01T19:15:36.509777Z",
          "shell.execute_reply.started": "2023-06-01T19:14:03.862945Z",
          "shell.execute_reply": "2023-06-01T19:15:36.50881Z"
        },
        "trusted": true,
        "id": "eBmYp3HLHboG"
      },
      "execution_count": null,
      "outputs": []
    },
    {
      "cell_type": "code",
      "source": [
        "print(\"Accuracy of our model on test data : \" , model000.evaluate(x_testcnn,y_test)[1]*100 , \"%\")\n",
        "epochs = [i for i in range(100)]\n",
        "fig , ax = plt.subplots(1,2)\n",
        "train_acc = hist1.history['accuracy']\n",
        "train_loss = hist1.history['loss']\n",
        "test_acc = hist1.history['val_accuracy']\n",
        "test_loss = hist1.history['val_loss']\n",
        "\n",
        "fig.set_size_inches(20,6)\n",
        "ax[0].plot(epochs , train_loss , label = 'Training Loss')\n",
        "ax[0].plot(epochs , test_loss , label = 'Testing Loss')\n",
        "ax[0].set_title('Training & Testing Loss')\n",
        "ax[0].legend()\n",
        "ax[0].set_xlabel(\"Epochs\")\n",
        "\n",
        "ax[1].plot(epochs , train_acc , label = 'Training Accuracy')\n",
        "ax[1].plot(epochs , test_acc , label = 'Testing Accuracy')\n",
        "ax[1].set_title('Training & Testing Accuracy')\n",
        "ax[1].legend()\n",
        "ax[1].set_xlabel(\"Epochs\")\n",
        "plt.show()"
      ],
      "metadata": {
        "execution": {
          "iopub.status.busy": "2023-06-01T19:15:36.511631Z",
          "iopub.execute_input": "2023-06-01T19:15:36.512097Z",
          "iopub.status.idle": "2023-06-01T19:15:37.135302Z",
          "shell.execute_reply.started": "2023-06-01T19:15:36.512058Z",
          "shell.execute_reply": "2023-06-01T19:15:37.134363Z"
        },
        "trusted": true,
        "id": "gxxHWx_1HboG"
      },
      "execution_count": null,
      "outputs": []
    },
    {
      "cell_type": "code",
      "source": [
        "# predicting on test data.\n",
        "pred_test00 = model000.predict(x_testcnn)\n",
        "y_pred00 = encoder.inverse_transform(pred_test)\n",
        "y_test00 = encoder.inverse_transform(y_test)\n",
        "\n",
        "# Check for random predictions\n",
        "df0 = pd.DataFrame(columns=['Predicted Labels', 'Actual Labels'])\n",
        "df0['Predicted Labels'] = y_pred00.flatten()\n",
        "df0['Actual Labels'] = y_test00.flatten()\n",
        "\n",
        "df0.head(10)"
      ],
      "metadata": {
        "execution": {
          "iopub.status.busy": "2023-06-01T19:15:37.136894Z",
          "iopub.execute_input": "2023-06-01T19:15:37.137998Z",
          "iopub.status.idle": "2023-06-01T19:15:38.188788Z",
          "shell.execute_reply.started": "2023-06-01T19:15:37.137958Z",
          "shell.execute_reply": "2023-06-01T19:15:38.187837Z"
        },
        "trusted": true,
        "id": "CmzWmtHYHboG"
      },
      "execution_count": null,
      "outputs": []
    },
    {
      "cell_type": "markdown",
      "source": [
        "# Evalutation"
      ],
      "metadata": {
        "id": "-1mnzwueHboH"
      }
    },
    {
      "cell_type": "code",
      "source": [
        "from sklearn.metrics import confusion_matrix,classification_report\n",
        "cm = confusion_matrix(y_test00, y_pred00)\n",
        "plt.figure(figsize = (12, 10))\n",
        "cm = pd.DataFrame(cm , index = [i for i in encoder.categories_] , columns = [i for i in encoder.categories_])\n",
        "#cm = cm.astype('float') / cm.sum(axis=1)[:, np.newaxis]\n",
        "sns.heatmap(cm, linecolor='white', cmap='Blues', linewidth=1, annot=True, fmt='.2f')\n",
        "plt.title('Confusion Matrix', size=20)\n",
        "plt.xlabel('Predicted Labels', size=14)\n",
        "plt.ylabel('Actual Labels', size=14)\n",
        "plt.show()\n",
        "print(classification_report(y_test00, y_pred00))"
      ],
      "metadata": {
        "execution": {
          "iopub.status.busy": "2023-06-01T19:15:38.190085Z",
          "iopub.execute_input": "2023-06-01T19:15:38.190485Z",
          "iopub.status.idle": "2023-06-01T19:15:38.847663Z",
          "shell.execute_reply.started": "2023-06-01T19:15:38.190426Z",
          "shell.execute_reply": "2023-06-01T19:15:38.846557Z"
        },
        "trusted": true,
        "id": "lAA2thYMHboH"
      },
      "execution_count": null,
      "outputs": []
    },
    {
      "cell_type": "markdown",
      "source": [
        "# Saving Best Model"
      ],
      "metadata": {
        "id": "36Jyc1KVHboH"
      }
    },
    {
      "cell_type": "code",
      "source": [
        "# MLP for Pima Indians Dataset Serialize to JSON and HDF5\n",
        "from tensorflow.keras.models import Sequential, model_from_json\n",
        "model_json = model000.to_json()\n",
        "with open(\"cnnlstmmodel.json\", \"w\") as json_file:\n",
        "    json_file.write(model_json)\n",
        "# serialize weights to HDF5\n",
        "model000.save_weights(\"cnnlstmmodel000.h5\")\n",
        "print(\"Saved model to disk\")"
      ],
      "metadata": {
        "execution": {
          "iopub.status.busy": "2023-06-01T19:15:38.85255Z",
          "iopub.execute_input": "2023-06-01T19:15:38.855421Z",
          "iopub.status.idle": "2023-06-01T19:15:38.957271Z",
          "shell.execute_reply.started": "2023-06-01T19:15:38.855379Z",
          "shell.execute_reply": "2023-06-01T19:15:38.95619Z"
        },
        "trusted": true,
        "id": "Ege6rUSdHboH"
      },
      "execution_count": null,
      "outputs": []
    },
    {
      "cell_type": "code",
      "source": [
        "from tensorflow.keras.models import Sequential, model_from_json\n",
        "json_file = open('/kaggle/working/cnnlstmmodel.json', 'r')\n",
        "loaded_model_json = json_file.read()\n",
        "json_file.close()\n",
        "loaded_model = model_from_json(loaded_model_json)\n",
        "# load weights into new model\n",
        "loaded_model.load_weights(\"/kaggle/working/cnnlstmmodel000.h5\")\n",
        "print(\"Loaded model from disk\")"
      ],
      "metadata": {
        "execution": {
          "iopub.status.busy": "2023-06-01T19:15:38.961558Z",
          "iopub.execute_input": "2023-06-01T19:15:38.964267Z",
          "iopub.status.idle": "2023-06-01T19:15:40.087856Z",
          "shell.execute_reply.started": "2023-06-01T19:15:38.964228Z",
          "shell.execute_reply": "2023-06-01T19:15:40.086878Z"
        },
        "trusted": true,
        "id": "avWwg5DFHboH"
      },
      "execution_count": null,
      "outputs": []
    },
    {
      "cell_type": "code",
      "source": [
        "loaded_model.compile(optimizer=SGD(lr=0.001, decay=1e-6, momentum=0.8), loss='categorical_crossentropy', metrics=['accuracy'])\n",
        "score = loaded_model.evaluate(x_testcnn,y_test)\n",
        "print(\"%s: %.2f%%\" % (loaded_model.metrics_names[1], score[1]*100))"
      ],
      "metadata": {
        "execution": {
          "iopub.status.busy": "2023-06-01T19:15:40.09207Z",
          "iopub.execute_input": "2023-06-01T19:15:40.094703Z",
          "iopub.status.idle": "2023-06-01T19:15:42.023113Z",
          "shell.execute_reply.started": "2023-06-01T19:15:40.094662Z",
          "shell.execute_reply": "2023-06-01T19:15:42.022124Z"
        },
        "trusted": true,
        "id": "YTY407cLHboH"
      },
      "execution_count": null,
      "outputs": []
    },
    {
      "cell_type": "markdown",
      "source": [
        "# Saving and Loading our Stnadrad Scaler and encoder\n",
        "* To save the StandardScaler object to use it later in a Flask API"
      ],
      "metadata": {
        "id": "5E-74y4XHboI"
      }
    },
    {
      "cell_type": "code",
      "source": [
        "\n",
        "import joblib\n",
        "\n",
        "#saving scaler\n",
        "joblib.dump(scaler, 'scaler.joblib')\n",
        "\n",
        "#loading our scaler\n",
        "\n",
        "scaler = joblib.load('scaler.joblib')\n",
        "\n",
        "#saving our encoder\n",
        "\n",
        "joblib.dump(encoder, 'encoder.joblib')\n",
        "\n",
        "#loading our encoder\n",
        "\n",
        "encoder= joblib.load('encoder.joblib')"
      ],
      "metadata": {
        "execution": {
          "iopub.status.busy": "2023-06-01T19:15:42.024797Z",
          "iopub.execute_input": "2023-06-01T19:15:42.025156Z",
          "iopub.status.idle": "2023-06-01T19:15:42.03512Z",
          "shell.execute_reply.started": "2023-06-01T19:15:42.025118Z",
          "shell.execute_reply": "2023-06-01T19:15:42.03415Z"
        },
        "trusted": true,
        "id": "JGbprIuKHboI"
      },
      "execution_count": null,
      "outputs": []
    },
    {
      "cell_type": "markdown",
      "source": [
        "# Predict function\n",
        "* That can predict new record"
      ],
      "metadata": {
        "id": "1OfNzsmbHboI"
      }
    },
    {
      "cell_type": "code",
      "source": [
        "def get_predict_feat(path):\n",
        "    d, s_rate= librosa.load(path, duration=2.5, offset=0.6)\n",
        "    res=feat_ext(d)\n",
        "    result=np.array(res)\n",
        "    result=np.reshape(result,newshape=(1,41))\n",
        "    i_result = scaler.transform(result)\n",
        "    final_result=np.expand_dims(i_result, axis=2)\n",
        "\n",
        "    return final_result"
      ],
      "metadata": {
        "execution": {
          "iopub.status.busy": "2023-06-01T19:15:42.036787Z",
          "iopub.execute_input": "2023-06-01T19:15:42.037274Z",
          "iopub.status.idle": "2023-06-01T19:15:42.044317Z",
          "shell.execute_reply.started": "2023-06-01T19:15:42.037236Z",
          "shell.execute_reply": "2023-06-01T19:15:42.043245Z"
        },
        "trusted": true,
        "id": "Sp3HwgGvHboI"
      },
      "execution_count": null,
      "outputs": []
    },
    {
      "cell_type": "code",
      "source": [
        "res=get_predict_feat(\"/kaggle/input/ravdess-emotional-speech-audio/Actor_01/03-01-02-01-02-01-01.wav\")\n",
        "print(res.shape)"
      ],
      "metadata": {
        "execution": {
          "iopub.status.busy": "2023-06-01T19:15:42.045904Z",
          "iopub.execute_input": "2023-06-01T19:15:42.046434Z",
          "iopub.status.idle": "2023-06-01T19:15:42.182787Z",
          "shell.execute_reply.started": "2023-06-01T19:15:42.046397Z",
          "shell.execute_reply": "2023-06-01T19:15:42.181495Z"
        },
        "trusted": true,
        "id": "525JaOnSHboI"
      },
      "execution_count": null,
      "outputs": []
    },
    {
      "cell_type": "code",
      "source": [
        "emotions1={1:'Neutral', 2:'Calm', 3:'Happy', 4:'Sad', 5:'Angry', 6:'Fear', 7:'Disgust',8:'Surprise'}\n",
        "def prediction(path1):\n",
        "    res=get_predict_feat(path1)\n",
        "    predictions=loaded_model.predict(res)\n",
        "    y_pred = encoder.inverse_transform(predictions)\n",
        "    print(y_pred[0][0])"
      ],
      "metadata": {
        "execution": {
          "iopub.status.busy": "2023-06-01T19:15:42.184496Z",
          "iopub.execute_input": "2023-06-01T19:15:42.184944Z",
          "iopub.status.idle": "2023-06-01T19:15:42.193404Z",
          "shell.execute_reply.started": "2023-06-01T19:15:42.184892Z",
          "shell.execute_reply": "2023-06-01T19:15:42.192144Z"
        },
        "trusted": true,
        "id": "cn63wYB7HboJ"
      },
      "execution_count": null,
      "outputs": []
    },
    {
      "cell_type": "code",
      "source": [
        "prediction(\"/kaggle/input/ravdess-emotional-speech-audio/Actor_02/03-01-01-01-01-01-02.wav\")"
      ],
      "metadata": {
        "execution": {
          "iopub.status.busy": "2023-06-01T19:15:42.195591Z",
          "iopub.execute_input": "2023-06-01T19:15:42.196099Z",
          "iopub.status.idle": "2023-06-01T19:15:43.365637Z",
          "shell.execute_reply.started": "2023-06-01T19:15:42.196059Z",
          "shell.execute_reply": "2023-06-01T19:15:43.364537Z"
        },
        "trusted": true,
        "id": "Dm53N8YAHboJ"
      },
      "execution_count": null,
      "outputs": []
    },
    {
      "cell_type": "code",
      "source": [
        "prediction(\"/kaggle/input/ravdess-emotional-speech-audio/Actor_01/03-01-04-02-01-01-01.wav\")"
      ],
      "metadata": {
        "execution": {
          "iopub.status.busy": "2023-06-01T19:15:43.369422Z",
          "iopub.execute_input": "2023-06-01T19:15:43.369748Z",
          "iopub.status.idle": "2023-06-01T19:15:43.572409Z",
          "shell.execute_reply.started": "2023-06-01T19:15:43.369718Z",
          "shell.execute_reply": "2023-06-01T19:15:43.570967Z"
        },
        "trusted": true,
        "id": "r4VCHp8ZHboJ"
      },
      "execution_count": null,
      "outputs": []
    },
    {
      "cell_type": "code",
      "source": [
        "prediction(\"/kaggle/input/ravdess-emotional-speech-audio/Actor_01/03-01-05-01-02-02-01.wav\")"
      ],
      "metadata": {
        "execution": {
          "iopub.status.busy": "2023-06-01T19:15:43.578816Z",
          "iopub.execute_input": "2023-06-01T19:15:43.579934Z",
          "iopub.status.idle": "2023-06-01T19:15:43.830547Z",
          "shell.execute_reply.started": "2023-06-01T19:15:43.579873Z",
          "shell.execute_reply": "2023-06-01T19:15:43.82896Z"
        },
        "trusted": true,
        "id": "4DIFHIi2HboJ"
      },
      "execution_count": null,
      "outputs": []
    },
    {
      "cell_type": "code",
      "source": [
        "prediction(\"/kaggle/input/ravdess-emotional-speech-audio/Actor_21/03-01-04-02-02-02-21.wav\")"
      ],
      "metadata": {
        "execution": {
          "iopub.status.busy": "2023-06-01T19:15:43.832094Z",
          "iopub.execute_input": "2023-06-01T19:15:43.832474Z",
          "iopub.status.idle": "2023-06-01T19:15:44.049145Z",
          "shell.execute_reply.started": "2023-06-01T19:15:43.832419Z",
          "shell.execute_reply": "2023-06-01T19:15:44.047606Z"
        },
        "trusted": true,
        "id": "vIDagsEaHboJ"
      },
      "execution_count": null,
      "outputs": []
    },
    {
      "cell_type": "code",
      "source": [
        "prediction(\"/kaggle/input/ravdess-emotional-speech-audio/Actor_02/03-01-06-01-02-02-02.wav\")"
      ],
      "metadata": {
        "execution": {
          "iopub.status.busy": "2023-06-01T19:15:44.050738Z",
          "iopub.execute_input": "2023-06-01T19:15:44.051112Z",
          "iopub.status.idle": "2023-06-01T19:15:44.290029Z",
          "shell.execute_reply.started": "2023-06-01T19:15:44.051075Z",
          "shell.execute_reply": "2023-06-01T19:15:44.277918Z"
        },
        "trusted": true,
        "id": "Q0-PmcdiHboJ"
      },
      "execution_count": null,
      "outputs": []
    }
  ]
}